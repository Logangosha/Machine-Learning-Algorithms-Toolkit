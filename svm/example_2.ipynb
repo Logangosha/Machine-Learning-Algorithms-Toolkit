{
 "cells": [
  {
   "cell_type": "code",
   "execution_count": 6,
   "id": "85adeda8",
   "metadata": {},
   "outputs": [],
   "source": [
    "# 🧪 SVM Example: Classifying Synthetic Data in 4D Feature Space\n",
    "\n",
    "# ------------------------------------------------------------\n",
    "# 📦 Import libraries\n",
    "# ------------------------------------------------------------\n",
    "import numpy as np\n",
    "from sklearn.model_selection import train_test_split\n",
    "from sklearn.metrics import classification_report, accuracy_score\n",
    "from svm import SVMModel  # 🧠 Our custom SVM wrapper (uses scikit-learn)"
   ]
  },
  {
   "cell_type": "code",
   "execution_count": 7,
   "id": "0b14bd2c",
   "metadata": {},
   "outputs": [
    {
     "name": "stdout",
     "output_type": "stream",
     "text": [
      "Feature matrix shape: (100, 4) (samples, features)\n",
      "Label vector shape: (100,)\n"
     ]
    }
   ],
   "source": [
    "# ------------------------------------------------------------\n",
    "# 🎲 Step 1: Generate synthetic classification data with 4 features\n",
    "# ------------------------------------------------------------\n",
    "\n",
    "# ❓ Why: Simulating a health dataset where each sample has 4 features:\n",
    "# - Age (years)\n",
    "# - Resting Heart Rate (bpm)\n",
    "# - Systolic Blood Pressure (mmHg)\n",
    "# - Cholesterol Level (mg/dL)\n",
    "#\n",
    "# Classes: 0 = Healthy, 1 = At Risk\n",
    "\n",
    "# 💡 Fun fact: Synthetic health data helps researchers test algorithms before applying to real patient data!\n",
    "\n",
    "# ------------------------------------------------------------\n",
    "# ✅ Step A: Set the random seed for reproducibility\n",
    "# ------------------------------------------------------------\n",
    "np.random.seed(42)\n",
    "# Ensures same synthetic data each run, which helps debugging and sharing results.\n",
    "\n",
    "# ------------------------------------------------------------\n",
    "# 🧊 Step B: Generate data points for Healthy patients (Class 0)\n",
    "# ------------------------------------------------------------\n",
    "\n",
    "# Multivariate normal distribution creates points clustered around a center,\n",
    "# with spread and orientation defined by covariance matrix.\n",
    "\n",
    "mean_healthy = [35, 65, 120, 180]  # Average healthy values: Age, HR, BP, Cholesterol\n",
    "# The covariance matrix shows how each feature relates to every other feature:\n",
    "# - Diagonal elements (cov[i][i]) show the variance of feature i (spread of that feature alone).\n",
    "# - Off-diagonal elements (cov[i][j] where i != j) show covariance between feature i and feature j:\n",
    "#   For a 4x4 matrix with features [0, 1, 2, 3], these represent:\n",
    "#     cov[0][1] and cov[1][0]: covariance between feature 0 and feature 1,\n",
    "#     cov[0][2] and cov[2][0]: covariance between feature 0 and feature 2,\n",
    "#     cov[0][3] and cov[3][0]: covariance between feature 0 and feature 3,\n",
    "#     cov[1][2] and cov[2][1]: covariance between feature 1 and feature 2,\n",
    "#     cov[1][3] and cov[3][1]: covariance between feature 1 and feature 3,\n",
    "#     cov[2][3] and cov[3][2]: covariance between feature 2 and feature 3.\n",
    "# Each off-diagonal value tells us how those two specific features vary together:\n",
    "# positive → both increase or decrease together,\n",
    "# negative → one increases while the other decreases,\n",
    "# zero → features vary independently (no linear relation).\n",
    "# Because the matrix is symmetric, cov[i][j] = cov[j][i].\n",
    "\n",
    "cov_healthy = [\n",
    "    [30, 2, 5, 10],\n",
    "    [2, 25, 3, 5],\n",
    "    [5, 3, 40, 12],\n",
    "    [10, 5, 12, 50]\n",
    "] \n",
    "\n",
    "class0 = np.random.multivariate_normal(mean_healthy, cov_healthy, size=50)\n",
    "\n",
    "# ------------------------------------------------------------\n",
    "# 🔥 Step C: Generate data points for At Risk patients (Class 1)\n",
    "# ------------------------------------------------------------\n",
    "\n",
    "mean_risk = [55, 80, 140, 240]  # Older age, higher heart rate, BP and cholesterol on average\n",
    "cov_risk = [\n",
    "    [40, 5, 7, 15],\n",
    "    [5, 30, 4, 8],\n",
    "    [7, 4, 50, 18],\n",
    "    [15, 8, 18, 60]\n",
    "]\n",
    "\n",
    "class1 = np.random.multivariate_normal(mean_risk, cov_risk, size=50)\n",
    "\n",
    "# ------------------------------------------------------------\n",
    "# 🧩 Step D: Combine features and labels\n",
    "# ------------------------------------------------------------\n",
    "X = np.vstack((class0, class1))  # Stack vertically → (100, 4)\n",
    "y = np.array([0]*50 + [1]*50)    # Labels: first 50 zeros, next 50 ones\n",
    "\n",
    "# ------------------------------------------------------------\n",
    "# 📊 Step E: Print basic info about dataset shape\n",
    "print(f\"Feature matrix shape: {X.shape} (samples, features)\")\n",
    "print(f\"Label vector shape: {y.shape}\")\n",
    "\n"
   ]
  },
  {
   "cell_type": "code",
   "execution_count": 8,
   "id": "2c401add",
   "metadata": {},
   "outputs": [],
   "source": [
    "# ------------------------------------------------------------\n",
    "# ✂️ Step 2: Split dataset into training and testing sets\n",
    "# ------------------------------------------------------------\n",
    "X_train, X_test, y_train, y_test = train_test_split(\n",
    "    X, y, test_size=0.2, random_state=42\n",
    ")\n",
    "\n",
    "\n"
   ]
  },
  {
   "cell_type": "code",
   "execution_count": 9,
   "id": "536dcdb8",
   "metadata": {},
   "outputs": [],
   "source": [
    "# ------------------------------------------------------------\n",
    "# 🧠 Step 3: Train SVM model with RBF kernel (good for complex data)\n",
    "# ------------------------------------------------------------\n",
    "# RBF kernel maps data into higher-dimensional space, enabling non-linear decision boundaries.\n",
    "# Useful for data that’s not linearly separable in original feature space.\n",
    "model = SVMModel(kernel=\"rbf\")\n",
    "model.train(X_train, y_train)\n",
    "\n"
   ]
  },
  {
   "cell_type": "code",
   "execution_count": 10,
   "id": "d96fdb21",
   "metadata": {},
   "outputs": [
    {
     "name": "stdout",
     "output_type": "stream",
     "text": [
      "✅ Accuracy: 1.0\n",
      "📊 Classification Report:\n",
      "               precision    recall  f1-score   support\n",
      "\n",
      "           0       1.00      1.00      1.00        12\n",
      "           1       1.00      1.00      1.00         8\n",
      "\n",
      "    accuracy                           1.00        20\n",
      "   macro avg       1.00      1.00      1.00        20\n",
      "weighted avg       1.00      1.00      1.00        20\n",
      "\n"
     ]
    }
   ],
   "source": [
    "# ------------------------------------------------------------\n",
    "# 🔍 Step 4: Make predictions and evaluate\n",
    "# ------------------------------------------------------------\n",
    "y_pred = model.predict(X_test)\n",
    "\n",
    "# Print accuracy score and classification report with precision, recall, and F1-score\n",
    "print(\"✅ Accuracy:\", accuracy_score(y_test, y_pred))\n",
    "print(\"📊 Classification Report:\\n\", classification_report(y_test, y_pred))\n",
    "\n",
    "# ------------------------------------------------------------\n",
    "# 🎉 Reminder: Features are [Age, Resting Heart Rate, Systolic BP, Cholesterol]\n",
    "# 🎉 No plotting here because visualizing 4D is tricky,\n",
    "# but you can use dimensionality reduction (e.g. PCA) to visualize if needed!"
   ]
  }
 ],
 "metadata": {
  "kernelspec": {
   "display_name": "Python 3",
   "language": "python",
   "name": "python3"
  },
  "language_info": {
   "codemirror_mode": {
    "name": "ipython",
    "version": 3
   },
   "file_extension": ".py",
   "mimetype": "text/x-python",
   "name": "python",
   "nbconvert_exporter": "python",
   "pygments_lexer": "ipython3",
   "version": "3.12.8"
  }
 },
 "nbformat": 4,
 "nbformat_minor": 5
}
