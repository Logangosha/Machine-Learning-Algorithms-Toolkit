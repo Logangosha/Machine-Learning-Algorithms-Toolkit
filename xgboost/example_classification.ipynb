{
 "cells": [
  {
   "cell_type": "code",
   "execution_count": 3,
   "id": "a672bcec",
   "metadata": {},
   "outputs": [],
   "source": [
    "# ---------------------------------------------------------\n",
    "# XGBoost Binary Classification Example: Is the House Expensive? 💰🏡\n",
    "# ---------------------------------------------------------\n",
    "# 🧠 GOAL: Predict if a house is \"expensive\" (1) or \"not expensive\" (0)\n",
    "# based on its features using a gradient-boosted decision tree classifier (XGBoost).\n",
    "# This is a full pipeline — from data creation to model training and evaluation.\n",
    "# We'll break down syntax, machine learning theory, and boosting internals as we go. 👇\n",
    "\n",
    "# ---------------------------------------------------------\n",
    "# 📦 IMPORTS: Tools and Libraries\n",
    "# ---------------------------------------------------------\n",
    "\n",
    "# numpy: Fundamental for array/matrix operations\n",
    "import numpy as np\n",
    "\n",
    "# pandas: Often used for tabular data manipulation (not used directly here, but essential in practice)\n",
    "import pandas as pd\n",
    "\n",
    "# matplotlib: To visualize the classification results\n",
    "import matplotlib.pyplot as plt\n",
    "\n",
    "# Scikit-learn utilities:\n",
    "# - train_test_split: To split data into training and testing sets\n",
    "# - accuracy_score: % of correct predictions\n",
    "# - confusion_matrix: Shows TP, TN, FP, FN\n",
    "# - classification_report: Precision, recall, F1-score\n",
    "from sklearn.model_selection import train_test_split\n",
    "from sklearn.metrics import accuracy_score, confusion_matrix, classification_report\n",
    "\n",
    "# XGBoostModel: Our custom wrapper (built around XGBClassifier)\n",
    "from xgboost_module import XGBoostModel  # See your previously defined class"
   ]
  },
  {
   "cell_type": "code",
   "execution_count": 4,
   "id": "3f8cbdd1",
   "metadata": {},
   "outputs": [],
   "source": [
    "# ---------------------------------------------------------\n",
    "# 🏗 STEP 1: Create Synthetic Housing Data\n",
    "# ---------------------------------------------------------\n",
    "\n",
    "np.random.seed(42)  # Ensures reproducible \"random\" values\n",
    "\n",
    "# Number of synthetic house samples\n",
    "n_samples = 100\n",
    "\n",
    "# Generate random features:\n",
    "# Each feature is a (100, 1) array (later stacked into a full dataset)\n",
    "square_feet = np.random.randint(500, 3500, size=(n_samples, 1))   # Home size in sq ft\n",
    "bedrooms    = np.random.randint(1, 6, size=(n_samples, 1))        # Number of bedrooms\n",
    "bathrooms   = np.random.randint(1, 5, size=(n_samples, 1))        # Number of bathrooms\n",
    "age         = np.random.randint(0, 51, size=(n_samples, 1))       # House age in years\n",
    "\n",
    "# Stack features horizontally to form full feature matrix X (shape: [100, 4])\n",
    "X = np.hstack([square_feet, bedrooms, bathrooms, age])\n",
    "\n",
    "# 🔢 Build a synthetic target variable (price):\n",
    "# Linear function: price = w₁x₁ + w₂x₂ + ... + noise\n",
    "true_weights = np.array([150, 10000, 7000, -500]).reshape(-1, 1)\n",
    "\n",
    "# Dot product: combines each feature vector with its weight\n",
    "price = X.dot(true_weights)\n",
    "\n",
    "# Add Gaussian noise to simulate real-world data imperfections\n",
    "noise = np.random.normal(0, 10000, size=price.shape)\n",
    "price_noisy = price + noise  # Final noisy price values\n",
    "\n",
    "# 🎯 Binary Classification Target:\n",
    "# - If price > 60th percentile, label as \"expensive\" (1)\n",
    "# - Otherwise, label as \"not expensive\" (0)\n",
    "threshold = np.percentile(price_noisy, 60)\n",
    "y = (price_noisy > threshold).astype(int)  # Convert to binary class labels (0 or 1)"
   ]
  },
  {
   "cell_type": "code",
   "execution_count": 5,
   "id": "ec310b41",
   "metadata": {},
   "outputs": [],
   "source": [
    "# ---------------------------------------------------------\n",
    "# 🔀 STEP 2: Train/Test Split\n",
    "# ---------------------------------------------------------\n",
    "\n",
    "# Split data: 80% train, 20% test\n",
    "# `random_state=42` ensures consistent shuffling\n",
    "X_train, X_test, y_train, y_test = train_test_split(\n",
    "    X, y, test_size=0.2, random_state=42\n",
    ")"
   ]
  },
  {
   "cell_type": "code",
   "execution_count": 6,
   "id": "659f648e",
   "metadata": {},
   "outputs": [
    {
     "name": "stderr",
     "output_type": "stream",
     "text": [
      "c:\\Users\\Logan\\AppData\\Local\\Programs\\Python\\Python312\\Lib\\site-packages\\xgboost\\training.py:183: UserWarning: [09:18:01] WARNING: C:\\actions-runner\\_work\\xgboost\\xgboost\\src\\learner.cc:738: \n",
      "Parameters: { \"use_label_encoder\" } are not used.\n",
      "\n",
      "  bst.update(dtrain, iteration=i, fobj=obj)\n"
     ]
    }
   ],
   "source": [
    "# ---------------------------------------------------------\n",
    "# 🌳 STEP 3: Define and Train the XGBoost Classifier\n",
    "# ---------------------------------------------------------\n",
    "\n",
    "# 🧠 GRADIENT BOOSTING THEORY:\n",
    "# - Boosting = combining many weak models (trees) into one strong model\n",
    "# - Gradient Boosting = each new tree fits the residuals (errors) of the last prediction\n",
    "# - Uses gradient descent on a loss function (like binary log loss)\n",
    "# - Final model is:  F(x) = Σ (learning_rate × tree_predictions)\n",
    "\n",
    "# 🛠️ XGBoost Enhancements:\n",
    "# - L1/L2 regularization to avoid overfitting\n",
    "# - Tree pruning for smaller/faster models\n",
    "# - Parallelized training = fast\n",
    "# - Can handle missing data\n",
    "# - Early stopping and built-in cross-validation (if used)\n",
    "\n",
    "# Initialize our model in classification mode\n",
    "# This will use `XGBClassifier` under the hood\n",
    "model = XGBoostModel(task=\"classification\")\n",
    "\n",
    "# Fit the model to the training data\n",
    "# Behind the scenes:\n",
    "# - Builds 100 decision trees (n_estimators=100)\n",
    "# - Each one trained to reduce classification error\n",
    "model.train(X_train, y_train)"
   ]
  },
  {
   "cell_type": "code",
   "execution_count": 7,
   "id": "1d1dbf43",
   "metadata": {},
   "outputs": [
    {
     "name": "stdout",
     "output_type": "stream",
     "text": [
      "🎯 Accuracy: 0.9500\n",
      "\n",
      "📊 Confusion Matrix:\n",
      "[[11  1]\n",
      " [ 0  8]]\n",
      "\n",
      "🧾 Classification Report:\n",
      "              precision    recall  f1-score   support\n",
      "\n",
      "           0       1.00      0.92      0.96        12\n",
      "           1       0.89      1.00      0.94         8\n",
      "\n",
      "    accuracy                           0.95        20\n",
      "   macro avg       0.94      0.96      0.95        20\n",
      "weighted avg       0.96      0.95      0.95        20\n",
      "\n"
     ]
    }
   ],
   "source": [
    "# ---------------------------------------------------------\n",
    "# 🧠 STEP 4: Predictions and Evaluation\n",
    "# ---------------------------------------------------------\n",
    "\n",
    "# Predict on the test set\n",
    "# Output: an array of 0s and 1s (the predicted classes)\n",
    "y_pred = model.predict(X_test)\n",
    "\n",
    "# ✅ Accuracy: % of correct predictions\n",
    "accuracy = accuracy_score(y_test, y_pred)\n",
    "\n",
    "# 🧾 Confusion Matrix:\n",
    "# Shows:\n",
    "# [[TN FP]\n",
    "#  [FN TP]]\n",
    "conf_mat = confusion_matrix(y_test, y_pred)\n",
    "\n",
    "# 📊 Classification Report:\n",
    "# Precision = TP / (TP + FP)\n",
    "# Recall    = TP / (TP + FN)\n",
    "# F1-score  = harmonic mean of precision and recall\n",
    "report = classification_report(y_test, y_pred)\n",
    "\n",
    "# Print metrics to console\n",
    "print(f\"🎯 Accuracy: {accuracy:.4f}\")\n",
    "print(\"\\n📊 Confusion Matrix:\")\n",
    "print(conf_mat)\n",
    "print(\"\\n🧾 Classification Report:\")\n",
    "print(report)"
   ]
  },
  {
   "cell_type": "code",
   "execution_count": 8,
   "id": "bec54189",
   "metadata": {},
   "outputs": [
    {
     "data": {
      "image/png": "[encoded data removed]",
      "text/plain": [
       "<Figure size 1000x500 with 1 Axes>"
      ]
     },
     "metadata": {},
     "output_type": "display_data"
    }
   ],
   "source": [
    "# ---------------------------------------------------------\n",
    "# 📊 STEP 5: Visualize Predicted vs Actual Classes\n",
    "# ---------------------------------------------------------\n",
    "\n",
    "# Create a scatter plot comparing predicted and actual class labels\n",
    "plt.figure(figsize=(10, 5))\n",
    "plt.scatter(range(len(y_test)), y_test, label=\"Actual\", marker='o', alpha=0.7)\n",
    "plt.scatter(range(len(y_pred)), y_pred, label=\"Predicted\", marker='x', alpha=0.7)\n",
    "plt.xlabel(\"Sample Index\")\n",
    "plt.ylabel(\"Class (0 = Not Expensive, 1 = Expensive)\")\n",
    "plt.title(\"XGBoost Classification: Predicted vs Actual Labels\")\n",
    "plt.legend()\n",
    "plt.grid(True)\n",
    "plt.tight_layout()\n",
    "plt.show()\n"
   ]
  }
 ],
 "metadata": {
  "kernelspec": {
   "display_name": "Python 3",
   "language": "python",
   "name": "python3"
  },
  "language_info": {
   "codemirror_mode": {
    "name": "ipython",
    "version": 3
   },
   "file_extension": ".py",
   "mimetype": "text/x-python",
   "name": "python",
   "nbconvert_exporter": "python",
   "pygments_lexer": "ipython3",
   "version": "3.12.8"
  }
 },
 "nbformat": 4,
 "nbformat_minor": 5
}
